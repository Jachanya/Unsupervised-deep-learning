{
 "cells": [
  {
   "cell_type": "code",
   "execution_count": 1,
   "metadata": {},
   "outputs": [],
   "source": [
    "import torch\n",
    "import torch.nn as nn\n",
    "import torch.optim as optim\n",
    "import torch.nn.functional as F\n",
    "import matplotlib.pyplot as plt"
   ]
  },
  {
   "cell_type": "code",
   "execution_count": 2,
   "metadata": {},
   "outputs": [],
   "source": [
    "class VerticalStack(nn.Module):\n",
    "    def __init__(self, in_channels, out_channels, kernel_size, stride = 1, bias = False):\n",
    "        super(VerticalStack, self).__init__()\n",
    "        self.kernel_size = kernel_size\n",
    "        self.pad = nn.ZeroPad2d(((kernel_size[1]-1)//2, (kernel_size[1]-1)//2, kernel_size[0]-1, 0))\n",
    "        self.conv = nn.Conv2d(in_channels, out_channels, kernel_size, stride = 1,bias = bias)\n",
    "        self.bn = nn.BatchNorm2d(out_channels)\n",
    "\n",
    "    def forward(self, x):\n",
    "        x = self.bn(self.conv(self.pad(x)))\n",
    "        return x"
   ]
  },
  {
   "cell_type": "code",
   "execution_count": 3,
   "metadata": {},
   "outputs": [],
   "source": [
    "def shift_down(x):\n",
    "    x = x[:,:,:-1,:]\n",
    "    pad = nn.ZeroPad2d((0,0,1,0))\n",
    "    x = pad(x)\n",
    "    return x"
   ]
  },
  {
   "cell_type": "code",
   "execution_count": 4,
   "metadata": {},
   "outputs": [],
   "source": [
    "class HorizontalStack(nn.Module):\n",
    "    def __init__(self, in_channels, out_channels, kernel_size, stride = 1,bias = False):\n",
    "        super(HorizontalStack, self).__init__()\n",
    "        \n",
    "        assert len(kernel_size) == 2, 'kernel should be tuple of size 2'\n",
    "        \n",
    "        self.kernel_size = kernel_size\n",
    "        self.pad = nn.ZeroPad2d((kernel_size[1] - 1, 0, 0, 0))\n",
    "        self.conv = nn.Conv2d(in_channels, out_channels, kernel_size, stride = 1,bias = bias)\n",
    "        self.bn = nn.BatchNorm2d(out_channels)\n",
    "    def forward(self, x):\n",
    "        x = self.bn(self.conv(self.pad(x)))\n",
    "        return x"
   ]
  },
  {
   "cell_type": "code",
   "execution_count": 5,
   "metadata": {},
   "outputs": [],
   "source": [
    "def shift_right(x):\n",
    "    x = x[:,:,:,:-1]\n",
    "    pad = nn.ZeroPad2d((1,0,0,0))\n",
    "    x = pad(x)\n",
    "    return x"
   ]
  },
  {
   "cell_type": "code",
   "execution_count": 6,
   "metadata": {},
   "outputs": [],
   "source": [
    "class BlockPixelCNN(nn.Module):\n",
    "    def __init__(self,in_channels, kernel_size_v, kernel_size_h, stride = 1, bias = False):\n",
    "        super(BlockPixelCNN, self).__init__()\n",
    "        \n",
    "        #assert out_channels % 2 == 0, 'out_channel has to be divisible by 2'\n",
    "        self.vert = VerticalStack(in_channels, in_channels*2, kernel_size_v, stride = 1, bias = False)\n",
    "        self.hor = HorizontalStack(in_channels, in_channels*2, kernel_size_h, stride = 1, bias = False)\n",
    "        self.conv_v_h = nn.Conv2d(in_channels*2, in_channels*2, 1, 1, bias = False)\n",
    "        self.bn1 = nn.BatchNorm2d(in_channels*2)\n",
    "        self.conv1 = nn.Conv2d(in_channels, in_channels, 1, 1, bias = False)\n",
    "        self.bn2 = nn.BatchNorm2d(in_channels)\n",
    "        \n",
    "        \n",
    "    def forward(self, v, h):\n",
    "        v_1, output = self.vertical(v)\n",
    "        #print(shift_down(v).shape)\n",
    "        h = self.horizontal(h, output) + h #+ shift_down(v) #experiment with residual\n",
    "        return v_1, h\n",
    "    \n",
    "    def horizontal(self, x, x_vertical):\n",
    "        x = (x_vertical) + self.hor(x)\n",
    "        x = torch.sigmoid(x[:, 1::2, :,:]) * torch.tanh(x[:,0::2,:,:])\n",
    "        x = self.conv1(x)\n",
    "        x = self.bn2(x)\n",
    "        return x\n",
    "        \n",
    "    def vertical(self, x):\n",
    "        x = self.vert(x)\n",
    "        output = self.conv_v_h(shift_down(x))\n",
    "        output = self.bn1(output)\n",
    "        x = torch.sigmoid(x[:,1::2,:,:]) * torch.tanh(x[:,0::2,:,:])\n",
    "        return x, output"
   ]
  },
  {
   "cell_type": "code",
   "execution_count": 7,
   "metadata": {},
   "outputs": [],
   "source": [
    "class AttentionBlock(nn.Module):\n",
    "    def __init__(self,input_channels, k_channels, v_channels, heads = 4, device = 'cuda'):\n",
    "        super(AttentionBlock, self).__init__()\n",
    "        \n",
    "        self.input_channels = input_channels\n",
    "        self.k_channels = k_channels\n",
    "        self.v_channels = v_channels\n",
    "        self.heads = heads\n",
    "        \n",
    "        self.conv_q = nn.Conv2d(input_channels, k_channels * heads, kernel_size = 1, stride = 1, bias = False)\n",
    "        self.conv_k = nn.Conv2d(input_channels, k_channels * heads, kernel_size = 1, stride = 1, bias = False)\n",
    "        self.conv_v = nn.Conv2d(input_channels, v_channels * heads, kernel_size = 1, stride = 1, bias = False)\n",
    "        \n",
    "        self.conv_h = nn.Conv2d(v_channels * heads, v_channels,  kernel_size = 1, stride = 1,bias = False)\n",
    "        \n",
    "        self.device = device\n",
    "    def forward(self, x):\n",
    "        '''\n",
    "        x-> BCHW\n",
    "        '''\n",
    "        \n",
    "        query = self.conv_q(x)\n",
    "        key = self.conv_k(x)\n",
    "        value = self.conv_v(x)\n",
    "        \n",
    "        query_shape = query.shape\n",
    "        bs = query.size(0)\n",
    "        \n",
    "        query = query.view(bs, self.heads , query_shape[1]//self.heads , query_shape[2] * query_shape[3])#.reshape(bs, self.heads ,query_shape[1]//self.heads, -1)\n",
    "        query = query.permute(0,1,3,2).view(query_shape[0] * self.heads, query_shape[2] * query_shape[3] , query_shape[1]//self.heads)\n",
    "        \n",
    "        key = key.view(bs, self.heads , query_shape[1]//self.heads , query_shape[2] * query_shape[3])#.reshape(bs, self.heads ,query_shape[1]//self.heads, -1)\n",
    "        key = key.view(query_shape[0] * self.heads, query_shape[1]//self.heads , query_shape[2] * query_shape[3] )\n",
    "        \n",
    "        \n",
    "        attn = torch.bmm(query, key)\n",
    "        \n",
    "        \n",
    "        attn = attn / torch.sqrt(torch.FloatTensor([self.k_channels]).to(attn.device))\n",
    "        \n",
    "        mask = (torch.tril(torch.ones_like((attn)), diagonal = -1) * -100000).permute(0,2,1)\n",
    "        #print(torch.where(attn > 0))\n",
    "        \n",
    "        #print(attn + mask)\n",
    "        attn = attn + mask\n",
    "        \n",
    "        \n",
    "        attn = F.softmax(attn, dim = -1)\n",
    "        \n",
    "        #plt.imshow(attn[0,:,:].detach())\n",
    "        #plt.show()\n",
    "        \n",
    "        value_shape = value.shape\n",
    "        value = value.view(value_shape[0] ,self.heads, value_shape[1]//self.heads, value_shape[2] * value_shape[3])\n",
    "        value = value.permute(0,1,3,2).view(value_shape[0] * self.heads ,value_shape[2] * value_shape[3], value_shape[1]//self.heads)\n",
    "        \n",
    "        output = torch.bmm(attn, value)\n",
    "        \n",
    "        #print(output.shape)\n",
    "        \n",
    "        output = output.view(value_shape[0], self.heads, value_shape[2] * value_shape[3] , self.v_channels).contiguous()\n",
    "\n",
    "        output = output.permute(0,1,3,2).contiguous().view(value_shape[0], self.heads * self.v_channels, value_shape[2] , value_shape[3]).contiguous()\n",
    "        \n",
    "        output = self.conv_h(output)\n",
    "        #output = output.reshape(value_shape[0], -1, value_shape[2], value_shape[3])\n",
    "        return output"
   ]
  },
  {
   "cell_type": "code",
   "execution_count": 8,
   "metadata": {},
   "outputs": [],
   "source": [
    "class PixelSNAILBlock(nn.Module):\n",
    "    def __init__(self, in_channels,aux_channels, k_size, v_size):\n",
    "        super(PixelSNAILBlock, self).__init__()\n",
    "        self.cnn_block = nn.ModuleList([BlockPixelCNN(in_channels, (2,3), (1,3)) for i in range(4)])\n",
    "        self.attn_block = AttentionBlock(in_channels+aux_channels, k_size, v_size)\n",
    "        \n",
    "        self.conv1 = nn.Conv2d(in_channels, in_channels, kernel_size = 1, stride = 1, bias = False)\n",
    "        self.bn1 = nn.BatchNorm2d(in_channels)\n",
    "        self.conv2 = nn.Conv2d(v_size, in_channels, kernel_size = 1, stride = 1, bias = False)\n",
    "        self.bn2 = nn.BatchNorm2d(in_channels)\n",
    "        self.conv3 = nn.Conv2d(in_channels, in_channels, kernel_size = 1, stride = 1, bias = False)\n",
    "        self.bn3 = nn.BatchNorm2d(in_channels)\n",
    "        \n",
    "    def forward(self, resblock_v,resblock_h, main_input):\n",
    "        \n",
    "        for i in range(len(self.cnn_block)):\n",
    "            resblock_v, resblock_h = self.cnn_block[i](resblock_v, resblock_h)\n",
    "        \n",
    "        attn = torch.cat((resblock_h, shift_down(main_input)), dim = 1)\n",
    "        attn = self.attn_block(attn)\n",
    "        \n",
    "        resblock_h = F.elu(self.bn1(self.conv1(F.elu(resblock_h))))\n",
    "        #print(resblock_h)\n",
    "        attn = F.elu(self.bn2(self.conv2(F.elu(attn))))\n",
    "        \n",
    "        resblock_h = resblock_h + attn\n",
    "        resblock_h = F.elu(self.bn3(self.conv3(F.elu(resblock_h))))\n",
    "        \n",
    "        return resblock_v, resblock_h"
   ]
  },
  {
   "cell_type": "code",
   "execution_count": 9,
   "metadata": {},
   "outputs": [],
   "source": [
    "class PixelSNAIL(nn.Module):\n",
    "    def __init__(self, in_channels, out_channels, k_size , v_size , mixtures = 10, m_blocks = 4):\n",
    "        super(PixelSNAIL, self).__init__()\n",
    "        self.vert = VerticalStack(in_channels,out_channels,(2,3))\n",
    "        self.hor = HorizontalStack(in_channels,out_channels,(1,3))\n",
    "        self.model = nn.ModuleList([PixelSNAILBlock(out_channels, in_channels, k_size , v_size) for i in range(m_blocks)])\n",
    "        \n",
    "        #self.conv1 = nn.Conv2d(out_channels, mixtures * 3, kernel_size = 1, stride = 1)\n",
    "        self.conv1 = nn.Conv2d(out_channels, 1, kernel_size = 1, stride = 1, bias = False)\n",
    "    def forward(self, inputs):\n",
    "        vert = self.vert(inputs)\n",
    "        hor = shift_right(self.hor(inputs))\n",
    "        \n",
    "        for i in range(len(self.model)):\n",
    "            vert, hor = self.model[i](vert, hor, inputs)\n",
    "            \n",
    "        hor = self.conv1(F.elu(hor))\n",
    "        return hor"
   ]
  },
  {
   "cell_type": "code",
   "execution_count": 10,
   "metadata": {},
   "outputs": [],
   "source": [
    "#implementing for unnormalized\n",
    "def discretized_logistic_loss_1d(outputs, inputs, d =  255):\n",
    "    '''\n",
    "    outputs -> BDHW, where D is n_mixs * 3\n",
    "    inputs -> BCHW\n",
    "    d -> maximum support of the distribution\n",
    "    '''\n",
    "    \n",
    "    inputs = inputs.permute(0,2,3,1).contiguous()\n",
    "    outputs = outputs.permute(0,2,3,1).contiguous()\n",
    "    \n",
    "    input_shape = inputs.shape\n",
    "    n_mixs = int(outputs.shape[-1]/3)\n",
    "    \n",
    "    inv_scales = torch.exp(-outputs[:,:,:,n_mixs*2:n_mixs*3])\n",
    "    means = outputs[:,:,:,n_mixs*1:n_mixs*2]\n",
    "    logits = outputs[:,:,:,:n_mixs]\n",
    "    plus_in = inv_scales * (inputs + 0.5 - means)\n",
    "    min_in = inv_scales * (inputs - 0.5 - means)\n",
    "    \n",
    "    cdf_delta = plus_in - min_in\n",
    "    log_cdf_delta = torch.log(torch.clamp(cdf_delta, min = 1e-12))\n",
    "    \n",
    "    log_cdf_max = torch.log(torch.clamp(1-torch.sigmoid(inv_scales * (d - 1.5 - means)), min = 1e-12))\n",
    "    \n",
    "    log_cdf_min = torch.log(torch.clamp(torch.sigmoid(inv_scales * (0.5 - means)), min = 1e-12))\n",
    "    \n",
    "    inputs_log_probs = torch.where(inputs<0.001, log_cdf_min, torch.where(inputs > d -1 - 1e-3,\n",
    "                                                               log_cdf_max, log_cdf_delta))\n",
    "    \n",
    "    pi_log_probs = F.log_softmax(logits, dim = -1)\n",
    "    log_probs = inputs_log_probs + pi_log_probs\n",
    "    \n",
    "    return torch.logsumexp(log_probs, dim = -1)"
   ]
  },
  {
   "cell_type": "code",
   "execution_count": 11,
   "metadata": {},
   "outputs": [],
   "source": [
    "model = PixelSNAIL(1,256, 16, 128, m_blocks =20)"
   ]
  },
  {
   "cell_type": "code",
   "execution_count": 12,
   "metadata": {},
   "outputs": [
    {
     "name": "stdout",
     "output_type": "stream",
     "text": [
      "tensor([[0.]], grad_fn=<SelectBackward>)\n"
     ]
    },
    {
     "data": {
      "text/plain": [
       "<matplotlib.image.AxesImage at 0x1eb81770d00>"
      ]
     },
     "execution_count": 12,
     "metadata": {},
     "output_type": "execute_result"
    },
    {
     "data": {
      "image/png": "[encoded data removed]",
      "text/plain": [
       "<Figure size 432x288 with 1 Axes>"
      ]
     },
     "metadata": {
      "needs_background": "light"
     },
     "output_type": "display_data"
    }
   ],
   "source": [
    "model.eval()\n",
    "inputs = torch.zeros(1,1,32,32)\n",
    "\n",
    "inputs[:,:,10,15] = 1\n",
    "\n",
    "output = model(inputs)\n",
    "print(output[:,:,10,15])\n",
    "\n",
    "plt.imshow(output.squeeze(0).detach().permute(1,2,0)[:,:,:3].numpy())\n"
   ]
  },
  {
   "cell_type": "code",
   "execution_count": 13,
   "metadata": {},
   "outputs": [],
   "source": [
    "import torch\n",
    "import torchvision\n",
    "import torchvision.transforms as transforms"
   ]
  },
  {
   "cell_type": "code",
   "execution_count": 14,
   "metadata": {},
   "outputs": [
    {
     "name": "stderr",
     "output_type": "stream",
     "text": [
      "C:\\Users\\johna\\anaconda4\\lib\\site-packages\\torchvision\\datasets\\mnist.py:498: UserWarning: The given NumPy array is not writeable, and PyTorch does not support non-writeable tensors. This means you can write to the underlying (supposedly non-writeable) NumPy array using the tensor. You may want to copy the array to protect its data or make it writeable before converting it to a tensor. This type of warning will be suppressed for the rest of this program. (Triggered internally at  ..\\torch\\csrc\\utils\\tensor_numpy.cpp:180.)\n",
      "  return torch.from_numpy(parsed.astype(m[2], copy=False)).view(*s)\n"
     ]
    }
   ],
   "source": [
    "transform = transforms.Compose(\n",
    "    [transforms.ToTensor()])\n",
    "\n",
    "batch_size = 4\n",
    "\n",
    "trainset = torchvision.datasets.MNIST(root='./data', train=True,\n",
    "                                        download=True, transform=transform)\n",
    "trainloader = torch.utils.data.DataLoader(trainset, batch_size=batch_size,\n",
    "                                          shuffle=True, num_workers=2)\n",
    "\n",
    "testset = torchvision.datasets.MNIST(root='./data', train=False,\n",
    "                                       download=True, transform=transform)\n",
    "testloader = torch.utils.data.DataLoader(testset, batch_size=batch_size,\n",
    "                                         shuffle=False, num_workers=2)\n",
    "\n",
    "classes = ('plane', 'car', 'bird', 'cat',\n",
    "           'deer', 'dog', 'frog', 'horse', 'ship', 'truck')\n",
    "#print(testset[0][0] * 255)\n"
   ]
  },
  {
   "cell_type": "code",
   "execution_count": 15,
   "metadata": {},
   "outputs": [
    {
     "data": {
      "image/png": "[encoded data removed]",
      "text/plain": [
       "<Figure size 432x288 with 1 Axes>"
      ]
     },
     "metadata": {
      "needs_background": "light"
     },
     "output_type": "display_data"
    }
   ],
   "source": [
    "import matplotlib.pyplot as plt\n",
    "import numpy as np\n",
    "\n",
    "# functions to show an image\n",
    "\n",
    "\n",
    "def imshow(img):\n",
    "    img = img / 2 + 0.5     # unnormalize\n",
    "    npimg = img.numpy()\n",
    "    plt.imshow(np.transpose(npimg, (1, 2, 0)))\n",
    "    plt.show()\n",
    "\n",
    "\n",
    "# get some random training images\n",
    "dataiter = iter(trainloader)\n",
    "images, labels = dataiter.next()\n",
    "\n",
    "# show images\n",
    "imshow(torchvision.utils.make_grid(images))\n",
    "# print labels\n",
    "#print(' '.join(f'{classes[labels[j]]:5s}' for j in range(batch_size)))"
   ]
  },
  {
   "cell_type": "code",
   "execution_count": 16,
   "metadata": {},
   "outputs": [],
   "source": [
    "net = PixelSNAIL(1,256, 16, 128, m_blocks =1).to(device = 'cuda')\n",
    "optimizer = optim.Adam(net.parameters(), lr=0.001)\n",
    "loss_fn  = nn.BCELoss().cuda()"
   ]
  },
  {
   "cell_type": "code",
   "execution_count": 17,
   "metadata": {},
   "outputs": [
    {
     "ename": "RuntimeError",
     "evalue": "CUDA error: device-side assert triggered\nCUDA kernel errors might be asynchronously reported at some other API call,so the stacktrace below might be incorrect.\nFor debugging consider passing CUDA_LAUNCH_BLOCKING=1.",
     "output_type": "error",
     "traceback": [
      "\u001b[1;31m---------------------------------------------------------------------------\u001b[0m",
      "\u001b[1;31mRuntimeError\u001b[0m                              Traceback (most recent call last)",
      "\u001b[1;32m<ipython-input-17-39b2961f3651>\u001b[0m in \u001b[0;36m<module>\u001b[1;34m\u001b[0m\n\u001b[0;32m     12\u001b[0m         \u001b[1;31m#print(inputs)\u001b[0m\u001b[1;33m\u001b[0m\u001b[1;33m\u001b[0m\u001b[1;33m\u001b[0m\u001b[0m\n\u001b[0;32m     13\u001b[0m         \u001b[0mloss\u001b[0m \u001b[1;33m=\u001b[0m \u001b[0mloss_fn\u001b[0m\u001b[1;33m(\u001b[0m\u001b[0moutputs\u001b[0m\u001b[1;33m,\u001b[0m \u001b[0minputs\u001b[0m\u001b[1;33m)\u001b[0m\u001b[1;33m\u001b[0m\u001b[1;33m\u001b[0m\u001b[0m\n\u001b[1;32m---> 14\u001b[1;33m         \u001b[0mprint\u001b[0m\u001b[1;33m(\u001b[0m\u001b[0mloss\u001b[0m\u001b[1;33m)\u001b[0m\u001b[1;33m\u001b[0m\u001b[1;33m\u001b[0m\u001b[0m\n\u001b[0m\u001b[0;32m     15\u001b[0m         \u001b[1;31m#print(loss.shape)\u001b[0m\u001b[1;33m\u001b[0m\u001b[1;33m\u001b[0m\u001b[1;33m\u001b[0m\u001b[0m\n\u001b[0;32m     16\u001b[0m         \u001b[0mloss\u001b[0m\u001b[1;33m.\u001b[0m\u001b[0mbackward\u001b[0m\u001b[1;33m(\u001b[0m\u001b[1;33m)\u001b[0m\u001b[1;33m\u001b[0m\u001b[1;33m\u001b[0m\u001b[0m\n",
      "\u001b[1;32m~\\anaconda4\\lib\\site-packages\\torch\\_tensor.py\u001b[0m in \u001b[0;36m__repr__\u001b[1;34m(self)\u001b[0m\n\u001b[0;32m    201\u001b[0m             \u001b[1;32mreturn\u001b[0m \u001b[0mhandle_torch_function\u001b[0m\u001b[1;33m(\u001b[0m\u001b[0mTensor\u001b[0m\u001b[1;33m.\u001b[0m\u001b[0m__repr__\u001b[0m\u001b[1;33m,\u001b[0m \u001b[1;33m(\u001b[0m\u001b[0mself\u001b[0m\u001b[1;33m,\u001b[0m\u001b[1;33m)\u001b[0m\u001b[1;33m,\u001b[0m \u001b[0mself\u001b[0m\u001b[1;33m)\u001b[0m\u001b[1;33m\u001b[0m\u001b[1;33m\u001b[0m\u001b[0m\n\u001b[0;32m    202\u001b[0m         \u001b[1;31m# All strings are unicode in Python 3.\u001b[0m\u001b[1;33m\u001b[0m\u001b[1;33m\u001b[0m\u001b[1;33m\u001b[0m\u001b[0m\n\u001b[1;32m--> 203\u001b[1;33m         \u001b[1;32mreturn\u001b[0m \u001b[0mtorch\u001b[0m\u001b[1;33m.\u001b[0m\u001b[0m_tensor_str\u001b[0m\u001b[1;33m.\u001b[0m\u001b[0m_str\u001b[0m\u001b[1;33m(\u001b[0m\u001b[0mself\u001b[0m\u001b[1;33m)\u001b[0m\u001b[1;33m\u001b[0m\u001b[1;33m\u001b[0m\u001b[0m\n\u001b[0m\u001b[0;32m    204\u001b[0m \u001b[1;33m\u001b[0m\u001b[0m\n\u001b[0;32m    205\u001b[0m     \u001b[1;32mdef\u001b[0m \u001b[0mbackward\u001b[0m\u001b[1;33m(\u001b[0m\u001b[0mself\u001b[0m\u001b[1;33m,\u001b[0m \u001b[0mgradient\u001b[0m\u001b[1;33m=\u001b[0m\u001b[1;32mNone\u001b[0m\u001b[1;33m,\u001b[0m \u001b[0mretain_graph\u001b[0m\u001b[1;33m=\u001b[0m\u001b[1;32mNone\u001b[0m\u001b[1;33m,\u001b[0m \u001b[0mcreate_graph\u001b[0m\u001b[1;33m=\u001b[0m\u001b[1;32mFalse\u001b[0m\u001b[1;33m,\u001b[0m \u001b[0minputs\u001b[0m\u001b[1;33m=\u001b[0m\u001b[1;32mNone\u001b[0m\u001b[1;33m)\u001b[0m\u001b[1;33m:\u001b[0m\u001b[1;33m\u001b[0m\u001b[1;33m\u001b[0m\u001b[0m\n",
      "\u001b[1;32m~\\anaconda4\\lib\\site-packages\\torch\\_tensor_str.py\u001b[0m in \u001b[0;36m_str\u001b[1;34m(self)\u001b[0m\n\u001b[0;32m    404\u001b[0m \u001b[1;32mdef\u001b[0m \u001b[0m_str\u001b[0m\u001b[1;33m(\u001b[0m\u001b[0mself\u001b[0m\u001b[1;33m)\u001b[0m\u001b[1;33m:\u001b[0m\u001b[1;33m\u001b[0m\u001b[1;33m\u001b[0m\u001b[0m\n\u001b[0;32m    405\u001b[0m     \u001b[1;32mwith\u001b[0m \u001b[0mtorch\u001b[0m\u001b[1;33m.\u001b[0m\u001b[0mno_grad\u001b[0m\u001b[1;33m(\u001b[0m\u001b[1;33m)\u001b[0m\u001b[1;33m:\u001b[0m\u001b[1;33m\u001b[0m\u001b[1;33m\u001b[0m\u001b[0m\n\u001b[1;32m--> 406\u001b[1;33m         \u001b[1;32mreturn\u001b[0m \u001b[0m_str_intern\u001b[0m\u001b[1;33m(\u001b[0m\u001b[0mself\u001b[0m\u001b[1;33m)\u001b[0m\u001b[1;33m\u001b[0m\u001b[1;33m\u001b[0m\u001b[0m\n\u001b[0m",
      "\u001b[1;32m~\\anaconda4\\lib\\site-packages\\torch\\_tensor_str.py\u001b[0m in \u001b[0;36m_str_intern\u001b[1;34m(inp)\u001b[0m\n\u001b[0;32m    379\u001b[0m                     \u001b[0mtensor_str\u001b[0m \u001b[1;33m=\u001b[0m \u001b[0m_tensor_str\u001b[0m\u001b[1;33m(\u001b[0m\u001b[0mself\u001b[0m\u001b[1;33m.\u001b[0m\u001b[0mto_dense\u001b[0m\u001b[1;33m(\u001b[0m\u001b[1;33m)\u001b[0m\u001b[1;33m,\u001b[0m \u001b[0mindent\u001b[0m\u001b[1;33m)\u001b[0m\u001b[1;33m\u001b[0m\u001b[1;33m\u001b[0m\u001b[0m\n\u001b[0;32m    380\u001b[0m                 \u001b[1;32melse\u001b[0m\u001b[1;33m:\u001b[0m\u001b[1;33m\u001b[0m\u001b[1;33m\u001b[0m\u001b[0m\n\u001b[1;32m--> 381\u001b[1;33m                     \u001b[0mtensor_str\u001b[0m \u001b[1;33m=\u001b[0m \u001b[0m_tensor_str\u001b[0m\u001b[1;33m(\u001b[0m\u001b[0mself\u001b[0m\u001b[1;33m,\u001b[0m \u001b[0mindent\u001b[0m\u001b[1;33m)\u001b[0m\u001b[1;33m\u001b[0m\u001b[1;33m\u001b[0m\u001b[0m\n\u001b[0m\u001b[0;32m    382\u001b[0m \u001b[1;33m\u001b[0m\u001b[0m\n\u001b[0;32m    383\u001b[0m     \u001b[1;32mif\u001b[0m \u001b[0mself\u001b[0m\u001b[1;33m.\u001b[0m\u001b[0mlayout\u001b[0m \u001b[1;33m!=\u001b[0m \u001b[0mtorch\u001b[0m\u001b[1;33m.\u001b[0m\u001b[0mstrided\u001b[0m\u001b[1;33m:\u001b[0m\u001b[1;33m\u001b[0m\u001b[1;33m\u001b[0m\u001b[0m\n",
      "\u001b[1;32m~\\anaconda4\\lib\\site-packages\\torch\\_tensor_str.py\u001b[0m in \u001b[0;36m_tensor_str\u001b[1;34m(self, indent)\u001b[0m\n\u001b[0;32m    240\u001b[0m         \u001b[1;32mreturn\u001b[0m \u001b[0m_tensor_str_with_formatter\u001b[0m\u001b[1;33m(\u001b[0m\u001b[0mself\u001b[0m\u001b[1;33m,\u001b[0m \u001b[0mindent\u001b[0m\u001b[1;33m,\u001b[0m \u001b[0msummarize\u001b[0m\u001b[1;33m,\u001b[0m \u001b[0mreal_formatter\u001b[0m\u001b[1;33m,\u001b[0m \u001b[0mimag_formatter\u001b[0m\u001b[1;33m)\u001b[0m\u001b[1;33m\u001b[0m\u001b[1;33m\u001b[0m\u001b[0m\n\u001b[0;32m    241\u001b[0m     \u001b[1;32melse\u001b[0m\u001b[1;33m:\u001b[0m\u001b[1;33m\u001b[0m\u001b[1;33m\u001b[0m\u001b[0m\n\u001b[1;32m--> 242\u001b[1;33m         \u001b[0mformatter\u001b[0m \u001b[1;33m=\u001b[0m \u001b[0m_Formatter\u001b[0m\u001b[1;33m(\u001b[0m\u001b[0mget_summarized_data\u001b[0m\u001b[1;33m(\u001b[0m\u001b[0mself\u001b[0m\u001b[1;33m)\u001b[0m \u001b[1;32mif\u001b[0m \u001b[0msummarize\u001b[0m \u001b[1;32melse\u001b[0m \u001b[0mself\u001b[0m\u001b[1;33m)\u001b[0m\u001b[1;33m\u001b[0m\u001b[1;33m\u001b[0m\u001b[0m\n\u001b[0m\u001b[0;32m    243\u001b[0m         \u001b[1;32mreturn\u001b[0m \u001b[0m_tensor_str_with_formatter\u001b[0m\u001b[1;33m(\u001b[0m\u001b[0mself\u001b[0m\u001b[1;33m,\u001b[0m \u001b[0mindent\u001b[0m\u001b[1;33m,\u001b[0m \u001b[0msummarize\u001b[0m\u001b[1;33m,\u001b[0m \u001b[0mformatter\u001b[0m\u001b[1;33m)\u001b[0m\u001b[1;33m\u001b[0m\u001b[1;33m\u001b[0m\u001b[0m\n\u001b[0;32m    244\u001b[0m \u001b[1;33m\u001b[0m\u001b[0m\n",
      "\u001b[1;32m~\\anaconda4\\lib\\site-packages\\torch\\_tensor_str.py\u001b[0m in \u001b[0;36m__init__\u001b[1;34m(self, tensor)\u001b[0m\n\u001b[0;32m     88\u001b[0m \u001b[1;33m\u001b[0m\u001b[0m\n\u001b[0;32m     89\u001b[0m         \u001b[1;32melse\u001b[0m\u001b[1;33m:\u001b[0m\u001b[1;33m\u001b[0m\u001b[1;33m\u001b[0m\u001b[0m\n\u001b[1;32m---> 90\u001b[1;33m             \u001b[0mnonzero_finite_vals\u001b[0m \u001b[1;33m=\u001b[0m \u001b[0mtorch\u001b[0m\u001b[1;33m.\u001b[0m\u001b[0mmasked_select\u001b[0m\u001b[1;33m(\u001b[0m\u001b[0mtensor_view\u001b[0m\u001b[1;33m,\u001b[0m \u001b[0mtorch\u001b[0m\u001b[1;33m.\u001b[0m\u001b[0misfinite\u001b[0m\u001b[1;33m(\u001b[0m\u001b[0mtensor_view\u001b[0m\u001b[1;33m)\u001b[0m \u001b[1;33m&\u001b[0m \u001b[0mtensor_view\u001b[0m\u001b[1;33m.\u001b[0m\u001b[0mne\u001b[0m\u001b[1;33m(\u001b[0m\u001b[1;36m0\u001b[0m\u001b[1;33m)\u001b[0m\u001b[1;33m)\u001b[0m\u001b[1;33m\u001b[0m\u001b[1;33m\u001b[0m\u001b[0m\n\u001b[0m\u001b[0;32m     91\u001b[0m \u001b[1;33m\u001b[0m\u001b[0m\n\u001b[0;32m     92\u001b[0m             \u001b[1;32mif\u001b[0m \u001b[0mnonzero_finite_vals\u001b[0m\u001b[1;33m.\u001b[0m\u001b[0mnumel\u001b[0m\u001b[1;33m(\u001b[0m\u001b[1;33m)\u001b[0m \u001b[1;33m==\u001b[0m \u001b[1;36m0\u001b[0m\u001b[1;33m:\u001b[0m\u001b[1;33m\u001b[0m\u001b[1;33m\u001b[0m\u001b[0m\n",
      "\u001b[1;31mRuntimeError\u001b[0m: CUDA error: device-side assert triggered\nCUDA kernel errors might be asynchronously reported at some other API call,so the stacktrace below might be incorrect.\nFor debugging consider passing CUDA_LAUNCH_BLOCKING=1."
     ]
    }
   ],
   "source": [
    "for epoch in range(4):  # loop over the dataset multiple times\n",
    "\n",
    "    running_loss = 0.0\n",
    "    \n",
    "    for i, data in enumerate(trainloader):\n",
    "        inputs, labels = data\n",
    "        inputs, labels = inputs.to('cuda'), labels.to('cuda')\n",
    "        optimizer.zero_grad()\n",
    "        outputs = net(inputs)\n",
    "        # print statistics\n",
    "        #print(outputs)\n",
    "        #print(inputs)\n",
    "        loss = F.mse_loss(outputs, inputs)\n",
    "        print(loss)\n",
    "        #print(loss.shape)\n",
    "        loss.backward()\n",
    "        optimizer.step()\n",
    "        running_loss += loss.item()\n",
    "        if i % 2000 == 1999:    # print every 2000 mini-batches\n",
    "            print(f'[{epoch + 1}, {i + 1:5d}] loss: {running_loss / 2000:.3f}')\n",
    "            running_loss = 0.0\n",
    "\n",
    "print('Finished Training')"
   ]
  },
  {
   "cell_type": "code",
   "execution_count": null,
   "metadata": {},
   "outputs": [],
   "source": [
    "net.eval()\n",
    "for i, data in enumerate(testloader):\n",
    "    with torch.no_grad():\n",
    "        inputs, labels = data\n",
    "        inputs, labels = inputs.to('cuda'), labels.to('cuda')\n",
    "        optimizer.zero_grad()\n",
    "        output = net(inputs)\n",
    "        imshow(torchvision.utils.make_grid(inputs.detach().cpu()))\n",
    "        imshow(torchvision.utils.make_grid(output.detach().cpu()))"
   ]
  },
  {
   "cell_type": "code",
   "execution_count": null,
   "metadata": {},
   "outputs": [],
   "source": []
  },
  {
   "cell_type": "code",
   "execution_count": null,
   "metadata": {},
   "outputs": [],
   "source": []
  }
 ],
 "metadata": {
  "kernelspec": {
   "display_name": "Python 3",
   "language": "python",
   "name": "python3"
  },
  "language_info": {
   "codemirror_mode": {
    "name": "ipython",
    "version": 3
   },
   "file_extension": ".py",
   "mimetype": "text/x-python",
   "name": "python",
   "nbconvert_exporter": "python",
   "pygments_lexer": "ipython3",
   "version": "3.8.5"
  }
 },
 "nbformat": 4,
 "nbformat_minor": 4
}
