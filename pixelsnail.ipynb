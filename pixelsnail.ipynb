{
 "cells": [
  {
   "cell_type": "code",
   "execution_count": 1,
   "metadata": {},
   "outputs": [],
   "source": [
    "#"
   ]
  },
  {
   "cell_type": "code",
   "execution_count": 2,
   "metadata": {},
   "outputs": [],
   "source": [
    "import torch\n",
    "import torch.nn as nn\n",
    "import torch.optim as optim\n",
    "import torch.nn.functional as F"
   ]
  },
  {
   "cell_type": "code",
   "execution_count": 7,
   "metadata": {},
   "outputs": [
    {
     "data": {
      "text/plain": [
       "tensor([10.])"
      ]
     },
     "execution_count": 7,
     "metadata": {},
     "output_type": "execute_result"
    }
   ],
   "source": [
    "def discritized_mix_logistic_loss(x, l):\n",
    "    '''\n",
    "    x -> target BHWC\n",
    "    l -> output BHWC\n",
    "    '''\n",
    "    \n",
    "    l_shape = l.shape\n",
    "    nr_mix = int(l_shape[-1]/10)\n",
    "    \n",
    "    split = [nr_mix, 3 * nr_mix, 3 * nr_mix, 3 * nr_mix]\n",
    "    pi_i, mu_i, log_s_i, rgb_coefficients = torch.split(l, split_size_or_sections = split, dim = -1)\n",
    "    \n",
    "    log_s_i = torch.clamp(log_s_i, -7.)\n",
    "    log_s_i = torch.cat(torch.split(log_s_i.unsqueeze(-2), 3, -1), -2)\n",
    "    rgb_coefficients = torch.nn.tanh(rgb_coefficients)\n",
    "    one_over_s_i = torch.exp(-log_s_i)\n",
    "    \n",
    "    mu_r, mu_g, mu_b = torch.split(mu_i, split_size_or_sections = 3, dim = -1)\n",
    "    c0, c1, c2 = torch.split(rgb_coefficients, split_size_or_sections = 3,dim = -1)\n",
    "    x_r, x_g, x_b = torch.split(x, split_size_or_sections = 3, axis = -1)\n",
    "    \n",
    "    mu_g += c0 * x_r\n",
    "    mu_b += c1 * x_r + c2 * x_g\n",
    "    \n",
    "    mu_i = torch.cat([mu_r.unsqueeze(-2),\n",
    "                     mu_g.unsqueeze(-2),\n",
    "                     mu_b.unsqueeze(-2)], axis = -2)\n",
    "    \n",
    "    x = x.unsqueeze(-1)\n",
    "    x_minus_mu = torch.subtract(x, mu_i)\n",
    "    \n",
    "    plus_in = one_over_s_i * (x_minus_mu + 1. / 255.)\n",
    "    min_in = one_over_s_i * (x_minus_mu + 1. / 255.)\n",
    "\n",
    "    cdf_plus = torch.sigmoid(plus_in) # CDF of logistics at x + 0.5\n",
    "    cdf_min = torch.sigmoid(min_in) # CDF of logistics at x - 0.5\n",
    "\n",
    "    cdf_delta = cdf_plus - cdf_min # probability of x in bin [x - 0.5, x + 0.5]\n",
    "    log_cdf_delta = torch.log(torch.clamp(cdf_delta, min=1e-12))\n",
    "    log_cdf_plus = torch.log(torch.clamp(torch.sigmoid(one_over_s_i * (0.5 - means)),\n",
    "                                                           min=1e-12))\n",
    "    log_cdf_min = torch.log(torch.clamp(1 - torch.sigmoid(one_over_s_i * (d - 1.5 - means)),\n",
    "                                            min=1e-12))\n",
    "\n",
    "    x_log_probs = torch.where(x < 0.001, log_cdf_plus,\n",
    "                                  torch.where(x > d - 1 - 1e-3,\n",
    "                                              log_cdf_min, log_cdf_delta))\n",
    "    pi_log_probs = F.log_softmax(pi_i - torch.max(pi_i, -1, keepdims =True)).unsqueeze(0)\n",
    "    log_probs = x_log_probs + pi_log_probs\n",
    "    return torch.logsumexp(log_probs, dim=1)"
   ]
  },
  {
   "cell_type": "code",
   "execution_count": 11,
   "metadata": {},
   "outputs": [],
   "source": [
    "l = torch.randn(10,28,28,100)"
   ]
  },
  {
   "cell_type": "code",
   "execution_count": 13,
   "metadata": {},
   "outputs": [],
   "source": [
    "l_shape = l.shape\n",
    "nr_mix = int(l_shape[-1]/10)\n",
    "    \n",
    "split = [nr_mix, 3 * nr_mix, 3 * nr_mix, 3 * nr_mix]\n",
    "pi_i, mu_i, log_s_i, rgb_coefficients = torch.split(l, split_size_or_sections = split, dim = -1)\n",
    "    \n",
    "log_s_i = torch.clamp(log_s_i, -7.)\n"
   ]
  },
  {
   "cell_type": "code",
   "execution_count": 30,
   "metadata": {},
   "outputs": [
    {
     "data": {
      "text/plain": [
       "[10, 28, 28, 30, 30]"
      ]
     },
     "execution_count": 30,
     "metadata": {},
     "output_type": "execute_result"
    }
   ],
   "source": [
    "[int(i) for i in log_s_i.shape] + [10 * 3]"
   ]
  },
  {
   "cell_type": "code",
   "execution_count": 26,
   "metadata": {},
   "outputs": [],
   "source": [
    "out = torch.cat(torch.split(log_s_i.unsqueeze(-2), 3, -1), -2)"
   ]
  },
  {
   "cell_type": "code",
   "execution_count": 27,
   "metadata": {},
   "outputs": [
    {
     "data": {
      "text/plain": [
       "torch.Size([10, 28, 28, 10, 3])"
      ]
     },
     "execution_count": 27,
     "metadata": {},
     "output_type": "execute_result"
    }
   ],
   "source": [
    "out.shape"
   ]
  },
  {
   "cell_type": "code",
   "execution_count": null,
   "metadata": {},
   "outputs": [],
   "source": []
  }
 ],
 "metadata": {
  "kernelspec": {
   "display_name": "Python 3",
   "language": "python",
   "name": "python3"
  },
  "language_info": {
   "codemirror_mode": {
    "name": "ipython",
    "version": 3
   },
   "file_extension": ".py",
   "mimetype": "text/x-python",
   "name": "python",
   "nbconvert_exporter": "python",
   "pygments_lexer": "ipython3",
   "version": "3.8.5"
  }
 },
 "nbformat": 4,
 "nbformat_minor": 4
}
